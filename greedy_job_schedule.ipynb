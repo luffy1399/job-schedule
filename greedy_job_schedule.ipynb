{
 "cells": [
  {
   "cell_type": "code",
   "execution_count": 3,
   "id": "5416f84f",
   "metadata": {},
   "outputs": [
    {
     "name": "stdout",
     "output_type": "stream",
     "text": [
      "['d', 'a', 'b']\n"
     ]
    }
   ],
   "source": [
    "\n",
    "def job_schedule(arr,t):\n",
    "    size = len(arr)\n",
    "    \n",
    "    for i in range(size-1):\n",
    "        for j in range(size-1-i):\n",
    "            if arr[j][2] < arr[j+1][2]:\n",
    "                (arr[j],arr[j+1]) = (arr[j+1],arr[j])\n",
    "                \n",
    "    \n",
    "    jobs= [-1]*t\n",
    "    for i in range(size):\n",
    "        for j in range(min(t-1,arr[i][1]-1),-1,-1):\n",
    "            if jobs[j]==-1:\n",
    "                jobs[j]= arr[i][0]\n",
    "                break\n",
    "    \n",
    "    print(jobs)\n",
    "\n",
    "\n",
    "\n",
    "arr = [['a',2,100],\n",
    "       ['b',3,15],\n",
    "       ['c',1,20],\n",
    "       ['d',2,27],\n",
    "       ['e',1,10]]\n",
    "\n",
    "job_schedule(arr,3)"
   ]
  },
  {
   "cell_type": "code",
   "execution_count": null,
   "id": "5bdeac71",
   "metadata": {},
   "outputs": [],
   "source": []
  }
 ],
 "metadata": {
  "kernelspec": {
   "display_name": "Python 3 (ipykernel)",
   "language": "python",
   "name": "python3"
  },
  "language_info": {
   "codemirror_mode": {
    "name": "ipython",
    "version": 3
   },
   "file_extension": ".py",
   "mimetype": "text/x-python",
   "name": "python",
   "nbconvert_exporter": "python",
   "pygments_lexer": "ipython3",
   "version": "3.10.9"
  }
 },
 "nbformat": 4,
 "nbformat_minor": 5
}
